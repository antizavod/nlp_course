{
 "cells": [
  {
   "cell_type": "code",
   "execution_count": 135,
   "metadata": {
    "collapsed": true
   },
   "outputs": [],
   "source": [
    "# Windows 7\n",
    "\n",
    "from pymystem3 import Mystem\n",
    "import pymorphy2\n",
    "import re"
   ]
  },
  {
   "cell_type": "code",
   "execution_count": 233,
   "metadata": {
    "collapsed": false
   },
   "outputs": [
    {
     "name": "stdout",
     "output_type": "stream",
     "text": [
      "ОРИГИНАЛ:\n",
      "Снова я роюсь в познавательном и очень умном дневнике тёти Вари и её дочери Маргариты. Читаю и читаю - что-то запоминаю, что-то запишу, сюда, на страницу, помещу: пусть другие тоже вместе со мной усвоят, познакомятся необычными умными мыслями - в жизни всё пригодится:\n",
      "ПРОВЕРОЧНЫЙ ТЕКСТ:\n",
      "снова я рыться в познавательный и очень умный дневник тетя варя и ее дочь маргарита читать и читать что-то запоминать что-то записывать сюда на страница поместить пусть другой тоже вместе со я усвоить познакомиться необычный умный мысль в жизнь все пригождаться\n",
      "ТЕКСТ MYSTEM:\n",
      "снова я рыться в познавательный и очень умный дневник тетя варя и ее дочь маргарита читать и читать что-то запоминать что-то записывать сюда на страница помещать пусть другой тоже вместе со я усваивать познакомиться необычный умный мысль в жизнь все пригождаться\n",
      "\n",
      "Качество MyStem:  0.951219512195\n",
      "ТЕКСТ PYMORPHY2:\n",
      "снова я роиться в познавательный и очень умный дневник тетя варя и ее дочь маргарита читать и читать что-то запоминать что-то записать сюда на страница поместить пусть другой тоже вместе с я усвоить познакомиться необычный умный мысль в жизнь весь пригодиться\n",
      "Качество Pymorphy2:  0.878048780488\n"
     ]
    }
   ],
   "source": [
    "# ХУДОЖЕСТВЕННЫЙ ТЕКСТ\n",
    "# Р. Салах. Снова роюсь в дневнике... Глава 5\n",
    "# http://www.proza.ru/2017/06/18/615\n",
    "\n",
    "# Оригинал\n",
    "f = open(r'C:\\CL\\fiction.txt', 'r')\n",
    "text = f.read().decode('cp1251')\n",
    "print 'ОРИГИНАЛ:'\n",
    "print text\n",
    "\n",
    "# Проверочный текст\n",
    "f = open(r'C:\\CL\\fiction_check.txt', 'r')\n",
    "text_check = f.read().decode('cp1251')\n",
    "print 'ПРОВЕРОЧНЫЙ ТЕКСТ:'\n",
    "print text_check\n",
    "\n",
    "# MyStem\n",
    "m = Mystem()\n",
    "lemmas = m.lemmatize(text)\n",
    "lemmas = ''.join(lemmas)\n",
    "lemmas = re.sub(r'[#%!@*,:?!.–0-9]', '', lemmas)\n",
    "lemmas_ms = re.sub('\\s\\-\\s', ' ', lemmas)\n",
    "print 'ТЕКСТ MYSTEM:'\n",
    "print lemmas_ms\n",
    "\n",
    "C_ms = [i == j for (i, j) in zip(text_check.split(), lemmas_ms.split())]\n",
    "Q_ms = float(sum(C_ms)) / float(len(C_ms))\n",
    "print 'Качество MyStem: ', Q_ms\n",
    "\n",
    "#PyMorphy2\n",
    "morph = pymorphy2.MorphAnalyzer()\n",
    "text2 = re.sub(r'[#%!@*,:?!.–0-9]', '', text)\n",
    "text2 = re.sub('\\s\\-\\s', ' ', text2)\n",
    "lemmas = [morph.parse(lemma)[0].normal_form for lemma in text2.split()]\n",
    "lemmas = ' '.join(lemmas)\n",
    "lemmas_pm = re.sub(u'ё', u'е', lemmas)\n",
    "print 'ТЕКСТ PYMORPHY2:'\n",
    "print lemmas_pm\n",
    "\n",
    "C_pm = [i == j for (i, j) in zip(text_check.split(), lemmas_pm.split())]\n",
    "Q_pm = float(sum(C_pm)) / float(len(C_pm))\n",
    "print 'Качество Pymorphy2: ', Q_pm"
   ]
  },
  {
   "cell_type": "code",
   "execution_count": 230,
   "metadata": {
    "collapsed": false
   },
   "outputs": [
    {
     "name": "stdout",
     "output_type": "stream",
     "text": [
      "ОРИГИНАЛ:\n",
      "Обсуждены результаты изучения физико-химических свойств, активности и селективности таких материалов в жидкофазных и газофазных реакциях. Проанализированы публикации, появившиеся в последние 5 лет, а также более ранние работы, которые по различным причинам не нашли отражения в многочисленных обзорах и монографиях по данной тематике.\n",
      "ПРОВЕРОЧНЫЙ ТЕКСТ:\n",
      "обсудить результат изучение физико-химический свойство активность и селективность такой материал в жидкофазный и газофазный реакция проанализировать публикация появиться в последний год а также более ранний работа который по различный причина не найти отражение в многочисленный обзор и монография по данный тематика\n",
      "ТЕКСТ MYSTEM:\n",
      "обсуждать результат изучение физико-химический свойство активность и селективность такой материал в жидкофазный и газофазный реакция проанализировать публикация появляться в последний год а также более ранний работа который по различный причина не находить отражение в многочисленный обзор и монография по данный тематика\n",
      "\n",
      "Качество MyStem:  0.926829268293\n",
      "ТЕКСТ PYMORPHY2:\n",
      "обсудить результат изучение физико-химический свойство активность и селективность такой материал в жидкофазный и газофазный реакция проанализировать публикация появиться в последний год а также более ранний работа который по различный причина не найти отражение в многочисленный обзор и монография по дать тематика\n",
      "Качество Pymorphy2:  0.975609756098\n"
     ]
    }
   ],
   "source": [
    "# НАУЧНЫЙ ТЕКСТ\n",
    "# Б.В. Романовский, И.Г. Тарханова. Иммобилизованные ионные жидкости в катализе \n",
    "# http://www.mathnet.ru/php/archive.phtml?wshow=paper&jrnid=rcr&paperid=4163&option_lang=rus\n",
    "\n",
    "# Оригинал\n",
    "f = open(r'C:\\CL\\science.txt', 'r')\n",
    "text = f.read().decode('cp1251')\n",
    "print 'ОРИГИНАЛ:'\n",
    "print text\n",
    "\n",
    "# Проверочный текст\n",
    "f = open(r'C:\\CL\\science_check.txt', 'r')\n",
    "text_check = f.read().decode('cp1251')\n",
    "print 'ПРОВЕРОЧНЫЙ ТЕКСТ:'\n",
    "print text_check\n",
    "\n",
    "# MyStem\n",
    "m = Mystem()\n",
    "lemmas = m.lemmatize(text)\n",
    "lemmas = ''.join(lemmas)\n",
    "lemmas = re.sub(r'[#%!@*,:?!.–0-9]', '', lemmas)\n",
    "lemmas = re.sub(r'  ', ' ', lemmas)\n",
    "lemmas_ms = re.sub('\\s\\-\\s', ' ', lemmas)\n",
    "print 'ТЕКСТ MYSTEM:'\n",
    "print lemmas_ms\n",
    "\n",
    "C_ms = [i == j for (i, j) in zip(text_check.split(), lemmas_ms.split())]\n",
    "Q_ms = float(sum(C_ms)) / float(len(C_ms))\n",
    "print 'Качество MyStem: ', Q_ms\n",
    "\n",
    "#PyMorphy2\n",
    "morph = pymorphy2.MorphAnalyzer()\n",
    "text2 = re.sub(r'[#%!@*,:?!.–0-9]', '', text)\n",
    "text2 = re.sub(r'  ', ' ', text2)\n",
    "text2 = re.sub('\\s\\-\\s', ' ', text2)\n",
    "lemmas = [morph.parse(lemma)[0].normal_form for lemma in text2.split()]\n",
    "lemmas = ' '.join(lemmas)\n",
    "lemmas_pm = re.sub(u'ё', u'е', lemmas)\n",
    "print 'ТЕКСТ PYMORPHY2:'\n",
    "print lemmas_pm\n",
    "\n",
    "C_pm = [i == j for (i, j) in zip(text_check.split(), lemmas_pm.split())]\n",
    "Q_pm = float(sum(C_pm)) / float(len(C_pm))\n",
    "print 'Качество Pymorphy2: ', Q_pm"
   ]
  },
  {
   "cell_type": "code",
   "execution_count": 231,
   "metadata": {
    "collapsed": false
   },
   "outputs": [
    {
     "name": "stdout",
     "output_type": "stream",
     "text": [
      "ОРИГИНАЛ:\n",
      "И признался судья чтоб с себя огонь критики снять ибо больно это было очевидно. Теперь он такой честный что аж тошно. Урод мля... Такие эпизоды в бою равных соперников как раз и решают и я вообще не понимаю как можно требовать от Ковалева чистую победу одной левой против чемпиона. Серега молодец. А реванш нужно проводить в России.\n",
      "ПРОВЕРОЧНЫЙ ТЕКСТ:\n",
      "и признаться судья чтоб с себя огонь критика снять ибо больно это быть очевидно теперь он такой честный что аж тошно урод мля такой эпизод в бой равный соперник как раз и решать и я вообще не понимать как можно требовать от ковалев чистый победа один левый против чемпион серега молодец а реванш нужно проводить в россия\n",
      "ТЕКСТ MYSTEM:\n",
      "и признаваться судья чтоб с себя огонь критика снимать ибо больно это быть очевидно теперь он такой честный что аж тошно урод мля такой эпизод в бой равный соперник как раз и решать и я вообще не понимать как можно требовать от ковалев чистый победа один левый против чемпион серега молодец а реванш нужно проводить в россия\n",
      "\n",
      "Качество MyStem:  0.964912280702\n",
      "ТЕКСТ PYMORPHY2:\n",
      "и признаться судья чтоб с себя огонь критика снять ибо больно это быть очевидно теперь он такой честный что аж тошный урод мля такой эпизод в бой равный соперник как раз и решать и я вообще не понимать как можно требовать от ковалев чистый победа один левый против чемпион серега молодец а реванш нужно проводить в россия\n",
      "Качество Pymorphy2:  0.982456140351\n"
     ]
    }
   ],
   "source": [
    "# ТЕКСТ С ФОРУМА\n",
    "# AgvanO, 18.06.2017\n",
    "# https://www.sports.ru/tribuna/blogs/cemetery/1311738.html#comments\n",
    "\n",
    "# Оригинал\n",
    "f = open(r'C:\\CL\\forum.txt', 'r')\n",
    "text = f.read().decode('cp1251')\n",
    "print 'ОРИГИНАЛ:'\n",
    "print text\n",
    "\n",
    "# Проверочный текст\n",
    "f = open(r'C:\\CL\\forum_check.txt', 'r')\n",
    "text_check = f.read().decode('cp1251')\n",
    "print 'ПРОВЕРОЧНЫЙ ТЕКСТ:'\n",
    "print text_check\n",
    "\n",
    "# MyStem\n",
    "m = Mystem()\n",
    "lemmas = m.lemmatize(text)\n",
    "lemmas = ''.join(lemmas)\n",
    "lemmas = re.sub(r'[#%!@*,:?!.–0-9]', '', lemmas)\n",
    "lemmas = re.sub(r'  ', ' ', lemmas)\n",
    "lemmas_ms = re.sub('\\s\\-\\s', ' ', lemmas)\n",
    "print 'ТЕКСТ MYSTEM:'\n",
    "print lemmas_ms\n",
    "\n",
    "C_ms = [i == j for (i, j) in zip(text_check.split(), lemmas_ms.split())]\n",
    "Q_ms = float(sum(C_ms)) / float(len(C_ms))\n",
    "print 'Качество MyStem: ', Q_ms\n",
    "\n",
    "#PyMorphy2\n",
    "morph = pymorphy2.MorphAnalyzer()\n",
    "text2 = re.sub(r'[#%!@*,:?!.–0-9]', '', text)\n",
    "text2 = re.sub(r'  ', ' ', text2)\n",
    "text2 = re.sub('\\s\\-\\s', ' ', text2)\n",
    "lemmas = [morph.parse(lemma)[0].normal_form for lemma in text2.split()]\n",
    "lemmas = ' '.join(lemmas)\n",
    "lemmas_pm = re.sub(u'ё', u'е', lemmas)\n",
    "print 'ТЕКСТ PYMORPHY2:'\n",
    "print lemmas_pm\n",
    "\n",
    "C_pm = [i == j for (i, j) in zip(text_check.split(), lemmas_pm.split())]\n",
    "Q_pm = float(sum(C_pm)) / float(len(C_pm))\n",
    "print 'Качество Pymorphy2: ', Q_pm"
   ]
  },
  {
   "cell_type": "code",
   "execution_count": 232,
   "metadata": {
    "collapsed": false
   },
   "outputs": [
    {
     "name": "stdout",
     "output_type": "stream",
     "text": [
      "ОРИГИНАЛ:\n",
      "Швякие хубуки гвелко запивячили кромяку и хозбячат гибячненького жортунёнка.\n",
      "ПРОВЕРОЧНЫЙ ТЕКСТ:\n",
      "швякий хубук гвелко запивячить кромяка и хозбячить гибячненький жортуненок\n",
      "ТЕКСТ MYSTEM:\n",
      "швякий хубук гвелко запивячить кромяк и хозбячить гибячненький жортуненка\n",
      "\n",
      "Качество MyStem:  0.777777777778\n",
      "ТЕКСТ PYMORPHY2:\n",
      "швякий хубук гвелко запивячили кромяк и хозбячать гибячненький жортуненок\n",
      "Качество Pymorphy2:  0.666666666667\n"
     ]
    }
   ],
   "source": [
    "# ИСКУССТВЕННАЯ ФРАЗА\n",
    "# Аналогия с фразой \"Гло́кая ку́здра ште́ко будлану́ла бо́кра и курдя́чит бокрёнка\"\n",
    "# https://ru.wikipedia.org/wiki/%D0%93%D0%BB%D0%BE%D0%BA%D0%B0%D1%8F_%D0%BA%D1%83%D0%B7%D0%B4%D1%80%D0%B0\n",
    "\n",
    "# Оригинал\n",
    "f = open(r'C:\\CL\\glokaya.txt', 'r')\n",
    "text = f.read().decode('cp1251')\n",
    "print 'ОРИГИНАЛ:'\n",
    "print text\n",
    "\n",
    "# Проверочный текст\n",
    "f = open(r'C:\\CL\\glokaya_check.txt', 'r')\n",
    "text_check = f.read().decode('cp1251')\n",
    "print 'ПРОВЕРОЧНЫЙ ТЕКСТ:'\n",
    "print text_check\n",
    "\n",
    "# MyStem\n",
    "m = Mystem()\n",
    "lemmas = m.lemmatize(text)\n",
    "lemmas = ''.join(lemmas)\n",
    "lemmas = re.sub(r'[#%!@*,:?!.–0-9]', '', lemmas)\n",
    "lemmas = re.sub(r'  ', ' ', lemmas)\n",
    "lemmas_ms = re.sub('\\s\\-\\s', ' ', lemmas)\n",
    "print 'ТЕКСТ MYSTEM:'\n",
    "print lemmas_ms\n",
    "\n",
    "C_ms = [i == j for (i, j) in zip(text_check.split(), lemmas_ms.split())]\n",
    "Q_ms = float(sum(C_ms)) / float(len(C_ms))\n",
    "print 'Качество MyStem: ', Q_ms\n",
    "\n",
    "#PyMorphy2\n",
    "morph = pymorphy2.MorphAnalyzer()\n",
    "text2 = re.sub(r'[#%!@*,:?!.–0-9]', '', text)\n",
    "text2 = re.sub(r'  ', ' ', text2)\n",
    "text2 = re.sub('\\s\\-\\s', ' ', text2)\n",
    "lemmas = [morph.parse(lemma)[0].normal_form for lemma in text2.split()]\n",
    "lemmas = ' '.join(lemmas)\n",
    "lemmas_pm = re.sub(u'ё', u'е', lemmas)\n",
    "print 'ТЕКСТ PYMORPHY2:'\n",
    "print lemmas_pm\n",
    "\n",
    "C_pm = [i == j for (i, j) in zip(text_check.split(), lemmas_pm.split())]\n",
    "Q_pm = float(sum(C_pm)) / float(len(C_pm))\n",
    "print 'Качество Pymorphy2: ', Q_pm"
   ]
  }
 ],
 "metadata": {
  "kernelspec": {
   "display_name": "Python 2",
   "language": "python",
   "name": "python2"
  },
  "language_info": {
   "codemirror_mode": {
    "name": "ipython",
    "version": 2
   },
   "file_extension": ".py",
   "mimetype": "text/x-python",
   "name": "python",
   "nbconvert_exporter": "python",
   "pygments_lexer": "ipython2",
   "version": "2.7.11"
  }
 },
 "nbformat": 4,
 "nbformat_minor": 0
}
